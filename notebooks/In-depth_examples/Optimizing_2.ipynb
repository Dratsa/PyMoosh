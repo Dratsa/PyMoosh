{
 "cells": [
  {
   "cell_type": "markdown",
   "metadata": {},
   "source": [
    "OPTIMIZING WITH PYMOOSH 2 : THE 'OPTIMIZATION' CLASS"
   ]
  },
  {
   "cell_type": "markdown",
   "metadata": {},
   "source": [
    "#1 Physical parameters:"
   ]
  },
  {
   "cell_type": "code",
   "execution_count": null,
   "metadata": {},
   "outputs": [],
   "source": [
    "import PyMoosh as pm\n",
    "import numpy\n",
    "\n",
    "n = 30\n",
    "mat = [1.0, 1.5**2, 2.0**2]\n",
    "stack =  [0] + [1, 2] * n + [1, 0]\n",
    "thickness = [999.0 for _ in stack]\n",
    "which_layers = numpy.bool_(numpy.ones_like(stack))\n",
    "wl_domain = numpy.linspace(400, 800, 1000)\n",
    "incidence = 0.0\n",
    "polar = 0"
   ]
  },
  {
   "cell_type": "markdown",
   "metadata": {},
   "source": [
    "#2 Optimization parameters:"
   ]
  },
  {
   "cell_type": "code",
   "execution_count": null,
   "metadata": {},
   "outputs": [],
   "source": [
    "indices = False # We don't want to optimize the refractive indices.\n",
    "which_layers = None # For refractive index optimization only.\n",
    "\n",
    "def objective(wl):\n",
    "    wl1, wl2 = 550, 650\n",
    "    return numpy.heaviside(wl - wl1, 0) * numpy.heaviside(wl2 - wl, 0)\n",
    "\n",
    "computation_window = numpy.array((600.0))#np.linspace(551, 599, 1)#np.array((600.0))#np.linspace(551, 599, 1)\n",
    "objective_vector = objective(computation_window)\n",
    "\n",
    "def cost_function(layers):\n",
    "    structure = pm.Structure(mat, stack, list(layers), verbose=False) # 6.8e-5\n",
    "    R_vector = pm.coefficient(structure, computation_window, incidence, polar, wavelength_opti=True)[2] # 6.4e-3\n",
    "    return numpy.linalg.norm(objective_vector - R_vector, ord=None)/len(computation_window)\n",
    "\n",
    "min_th, max_th = 50.0, 100.0\n",
    "X_min = min_th * numpy.ones_like(stack) \n",
    "X_max = max_th * numpy.ones_like(stack)  \n",
    "computation_window = numpy.array(600.0)\n",
    "budget = 10000,\n",
    "nb_runs = 1,\n",
    "optimizer = 'QNDE',"
   ]
  },
  {
   "cell_type": "markdown",
   "metadata": {},
   "source": [
    "#3 Display parameters:"
   ]
  },
  {
   "cell_type": "code",
   "execution_count": null,
   "metadata": {},
   "outputs": [],
   "source": [
    "progression = False\n",
    "objective_title = 'Reflectance in function of wavelength, one run.'\n",
    "objective_ylabel = 'reflectance'\n",
    "wl_plot_stack = 600.0\n",
    "precision = 3"
   ]
  },
  {
   "cell_type": "markdown",
   "metadata": {},
   "source": [
    "#4 Optimization part:"
   ]
  },
  {
   "cell_type": "code",
   "execution_count": null,
   "metadata": {},
   "outputs": [],
   "source": [
    "optim = pm.optimization.optimization(mat, stack, thickness, wl_domain, incidence, polar,\n",
    "                     indices, cost_function, X_min, X_max, computation_window, which_layers, budget, nb_runs, optimizer,  \n",
    "                     objective_vector, objective_vector, progression, objective_title, objective_ylabel, wl_plot_stack, precision=3, verbose=False)\n",
    "\n",
    "optim.run()"
   ]
  }
 ],
 "metadata": {
  "language_info": {
   "name": "python"
  }
 },
 "nbformat": 4,
 "nbformat_minor": 2
}
