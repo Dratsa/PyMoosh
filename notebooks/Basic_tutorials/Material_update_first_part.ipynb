{
 "cells": [
  {
   "cell_type": "markdown",
   "metadata": {},
   "source": [
    "# If you are reading these lines, then you probably want to do serious stuff with PyMoosh.\n",
    "Here are shown \"advanced\" new PyMoosh features, with examples. First you need to install ```Refractiveindex``` library."
   ]
  },
  {
   "cell_type": "markdown",
   "metadata": {},
   "source": [
    "```\n",
    "pip python install --upgrade refractiveindex\n",
    "```"
   ]
  },
  {
   "cell_type": "markdown",
   "metadata": {},
   "source": [
    "# SPECIAL MATERIALS :\n",
    "If you want to use other materials references (Refractiveindex.info, your own experimental data, etc) or anisotropic material, then you should look over there.\n",
    "\n",
    "## (1/3) Refractiveindex \n",
    "To create a material from the Refractiveindex.info database, you can use the following lines. You can find the path name by hovering your cursor on the link in the Data section (see Refractiveindex git)."
   ]
  },
  {
   "cell_type": "code",
   "execution_count": 1,
   "metadata": {},
   "outputs": [
    {
     "name": "stderr",
     "output_type": "stream",
     "text": [
      "/home/stagiaire1/.local/lib/python3.10/site-packages/matplotlib/projections/__init__.py:63: UserWarning: Unable to import Axes3D. This may be due to multiple versions of Matplotlib being installed (e.g. as a system package and as a pip package). As a result, the 3D projection is not available.\n",
      "  warnings.warn(\"Unable to import Axes3D. This may be due to multiple versions of \"\n"
     ]
    }
   ],
   "source": [
    "from PyMoosh.materials import Material\n",
    "\n",
    "shelf, book, page = 'main', 'Ag', 'Rakic-BB'\n",
    "path = [shelf, book, page]\n",
    "\n",
    "special_material = Material(path, \"RII\")"
   ]
  },
  {
   "cell_type": "markdown",
   "metadata": {},
   "source": [
    "```RII``` keyword will bring information from the Refractiveindex.info database.\n",
    "Warning ! Each page has their own wavelength domain, and working with a wavelength outside this domain will raise an error.\n",
    "Try this to see the helpful error: "
   ]
  },
  {
   "cell_type": "code",
   "execution_count": null,
   "metadata": {},
   "outputs": [],
   "source": [
    "wavelength = 100 # nm\n",
    "\n",
    "epsilon = special_material.get_permittivity(wavelength) \n",
    "\n",
    "# Exception : Wavelength 0.1 um is out of bounds. Correct range: (0.24797 um, 12.398 um)"
   ]
  },
  {
   "cell_type": "markdown",
   "metadata": {},
   "source": [
    "You can add this material in your structure and use as usual other PyMoosh features without any changes."
   ]
  },
  {
   "cell_type": "code",
   "execution_count": 2,
   "metadata": {},
   "outputs": [
    {
     "name": "stdout",
     "output_type": "stream",
     "text": [
      "List of materials:\n",
      "Simple, non dispersive: epsilon= (1+0j)\n",
      "Object: Material\n",
      "(1+0j)\n",
      "(0.1519147989734816+3.5645603079555173j)\n"
     ]
    }
   ],
   "source": [
    "import numpy\n",
    "from PyMoosh.core import Structure\n",
    "\n",
    "wavelength = 600 # nm\n",
    "material_list = [1.0, special_material]\n",
    "thickness = [1, 2]*wavelength\n",
    "\n",
    "interface = Structure(material_list, [0, 1], thickness)\n",
    "\n",
    "mat_1 = interface.materials[0]\n",
    "mat_2 = interface.materials[1]\n",
    "\n",
    "refractive_index_mat_1 = numpy.sqrt(mat_1.get_permittivity(wavelength))\n",
    "refractive_index_mat_2 = numpy.sqrt(mat_2.get_permittivity(wavelength))\n",
    "\n",
    "print(refractive_index_mat_1)\n",
    "print(refractive_index_mat_2)"
   ]
  },
  {
   "cell_type": "markdown",
   "metadata": {},
   "source": [
    "## (2/3) Anisotropic Material"
   ]
  },
  {
   "cell_type": "markdown",
   "metadata": {},
   "source": [
    "To use anisotropic material from Refractiveindex.info, you can use the following lines. To select your birefringent material, first find the corresponding path as indicated in part one. Then use the ```ANI``` argument to make the code understand you are not looking for one page, but all pages corresponding to this material (There one page for each main refractive index)."
   ]
  },
  {
   "cell_type": "code",
   "execution_count": 3,
   "metadata": {},
   "outputs": [],
   "source": [
    "from PyMoosh.materials import Material\n",
    "\n",
    "shelf, book, page = 'main', 'As2S3', 'Slavich-alpha'\n",
    "path = [shelf, book, page]\n",
    "\n",
    "birefringent_material = Material(path, \"ANI\")"
   ]
  },
  {
   "cell_type": "markdown",
   "metadata": {},
   "source": [
    "In this exemple we have a bi-axis material. In fact, one can replace ```-alpha``` by ```'-beta'``` or ```'-gamma'``` without consequences, or even not precise the suffix at all. You will only raise an error if the material is not known to be birefringent. All of this is also true for uni-axis material, with ```-o``` (resp. ```-e```) for ordinary (resp. extraordinary) suffix.\n",
    "\n",
    "As seen in previous section, you can add this material in your structure as usual. However, this will trigger the ```Structure``` constructor to use appropriate functions for anisotropic problems. To acces the permittivity of an anisotropic material, you can use the ```get_permittivity_ani(incident_angle, precession, nutation, spin)``` method, which takes four more arguments than previous method:\n",
    "\n",
    "- Incident angle of the light beam, in the incident plane. It is an angle between 0° and 90°.  \n",
    "\n",
    "- The euler's angles, precession, nutation and spin, indicating the change of basis between the incident plane (xOz) and the main basis of the material.\n",
    "\n",
    "By default, the main basis and the incident plane basis are the same."
   ]
  },
  {
   "cell_type": "code",
   "execution_count": 4,
   "metadata": {},
   "outputs": [
    {
     "name": "stdout",
     "output_type": "stream",
     "text": [
      "List of materials:\n",
      "Simple, non dispersive: epsilon= (1+0j)\n",
      "Object: Material\n",
      "(1+0j)\n",
      "[1.68671574 1.5896474 ]\n"
     ]
    }
   ],
   "source": [
    "import numpy\n",
    "from PyMoosh.core import Structure\n",
    "\n",
    "wavelength = 600 # nm\n",
    "material_list = [1.0, birefringent_material]\n",
    "thickness = [1, 2]*wavelength\n",
    "\n",
    "interface = Structure(material_list, [0, 1], thickness)\n",
    "\n",
    "mat_1 = interface.materials[0]\n",
    "mat_2 = interface.materials[1]\n",
    "\n",
    "refractive_index_mat_1 = numpy.sqrt(mat_1.get_permittivity(wavelength))\n",
    "\n",
    "precession, nutation, spin = 0, 0, 0\n",
    "refractive_index_mat_2 = numpy.sqrt(mat_2.get_permittivity_ani(wavelength, 45, precession, nutation, spin))\n",
    "\n",
    "print(refractive_index_mat_1)\n",
    "print(refractive_index_mat_2)"
   ]
  },
  {
   "cell_type": "markdown",
   "metadata": {},
   "source": [
    "The same error about the wavelength domain can occur, as seen before.\n",
    "\n",
    "For the time being, there is no coefficient functions for this kind of material."
   ]
  },
  {
   "cell_type": "markdown",
   "metadata": {},
   "source": [
    "## (3/3) Experimental Data Material"
   ]
  },
  {
   "cell_type": "markdown",
   "metadata": {},
   "source": [
    "Something in the way"
   ]
  }
 ],
 "metadata": {
  "kernelspec": {
   "display_name": "Python 3",
   "language": "python",
   "name": "python3"
  },
  "language_info": {
   "codemirror_mode": {
    "name": "ipython",
    "version": 3
   },
   "file_extension": ".py",
   "mimetype": "text/x-python",
   "name": "python",
   "nbconvert_exporter": "python",
   "pygments_lexer": "ipython3",
   "version": "3.10.12"
  }
 },
 "nbformat": 4,
 "nbformat_minor": 2
}
