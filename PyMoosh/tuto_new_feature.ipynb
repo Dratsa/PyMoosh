{
 "cells": [
  {
   "cell_type": "markdown",
   "metadata": {},
   "source": [
    "# If you are reading these lines, then you probably want to do serious stuff with PyMoosh.\n",
    "Here are shown \"advanced\" new PyMoosh features, with examples. First you need to install ```Refractiveindex``` library."
   ]
  },
  {
   "cell_type": "markdown",
   "metadata": {},
   "source": [
    "```\n",
    "pip python install --upgrade refractiveindex\n",
    "```"
   ]
  },
  {
   "cell_type": "markdown",
   "metadata": {},
   "source": [
    "# SPECIAL MATERIALS :\n",
    "If you want to use other materials references (Refractiveindex.info, your own experimental data, etc) or anisotropic material, then you should look over there.\n",
    "\n",
    "## (1/3) Refractiveindex \n",
    "To create a material from the Refractiveindex.info database, you can use the following lines. You can find the path name by hovering your cursor on the link in the Data section (see Refractiveindex git)."
   ]
  },
  {
   "cell_type": "code",
   "execution_count": 2,
   "metadata": {},
   "outputs": [],
   "source": [
    "import numpy as np\n",
    "from PyMoosh.materials import Material\n",
    "\n",
    "shelf, book, page = 'main', 'Ag', 'Rakic-BB'\n",
    "path = [shelf, book, page]\n",
    "\n",
    "special_material = Material(path, \"RII\")"
   ]
  },
  {
   "cell_type": "markdown",
   "metadata": {},
   "source": [
    "```RII``` keyword will bring information from the Refractiveindex.info database.\n",
    "Warning ! Each page has their own wavelength domain, and working with a wavelength outside this domain will raise an error.\n",
    "Try this to see the helpful error: "
   ]
  },
  {
   "cell_type": "code",
   "execution_count": null,
   "metadata": {},
   "outputs": [],
   "source": [
    "wavelength = 100 # nm\n",
    "\n",
    "epsilon = special_material.get_permittivity(wavelength) \n",
    "\n",
    "# Exception : Wavelength 0.1 um is out of bounds. Correct range: (0.24797 um, 12.398 um)"
   ]
  },
  {
   "cell_type": "markdown",
   "metadata": {},
   "source": [
    "You can add normally this material in your structure:"
   ]
  },
  {
   "cell_type": "code",
   "execution_count": 6,
   "metadata": {},
   "outputs": [
    {
     "name": "stdout",
     "output_type": "stream",
     "text": [
      "List of materials:\n",
      "Simple, non dispersive: epsilon= (1+0j)\n",
      "Object: Material\n"
     ]
    },
    {
     "ename": "AttributeError",
     "evalue": "'Material' object has no attribute 'type'",
     "output_type": "error",
     "traceback": [
      "\u001b[0;31m---------------------------------------------------------------------------\u001b[0m",
      "\u001b[0;31mAttributeError\u001b[0m                            Traceback (most recent call last)",
      "\u001b[0;32m/tmp/ipykernel_3560/3846088877.py\u001b[0m in \u001b[0;36m<module>\u001b[0;34m\u001b[0m\n\u001b[1;32m     11\u001b[0m \u001b[0;34m\u001b[0m\u001b[0m\n\u001b[1;32m     12\u001b[0m \u001b[0mrefractive_index_mat_1\u001b[0m \u001b[0;34m=\u001b[0m \u001b[0mnp\u001b[0m\u001b[0;34m.\u001b[0m\u001b[0msqrt\u001b[0m\u001b[0;34m(\u001b[0m\u001b[0mmat_1\u001b[0m\u001b[0;34m.\u001b[0m\u001b[0mget_permittivity\u001b[0m\u001b[0;34m(\u001b[0m\u001b[0mwavelength\u001b[0m\u001b[0;34m)\u001b[0m\u001b[0;34m)\u001b[0m\u001b[0;34m\u001b[0m\u001b[0;34m\u001b[0m\u001b[0m\n\u001b[0;32m---> 13\u001b[0;31m \u001b[0mrefractive_index_mat_2\u001b[0m \u001b[0;34m=\u001b[0m \u001b[0mnp\u001b[0m\u001b[0;34m.\u001b[0m\u001b[0msqrt\u001b[0m\u001b[0;34m(\u001b[0m\u001b[0mmat_2\u001b[0m\u001b[0;34m.\u001b[0m\u001b[0mget_permittivity\u001b[0m\u001b[0;34m(\u001b[0m\u001b[0mwavelength\u001b[0m\u001b[0;34m)\u001b[0m\u001b[0;34m)\u001b[0m\u001b[0;34m\u001b[0m\u001b[0;34m\u001b[0m\u001b[0m\n\u001b[0m\u001b[1;32m     14\u001b[0m \u001b[0;34m\u001b[0m\u001b[0m\n\u001b[1;32m     15\u001b[0m \u001b[0mprint\u001b[0m\u001b[0;34m(\u001b[0m\u001b[0mrefractive_index_mat_1\u001b[0m\u001b[0;34m)\u001b[0m\u001b[0;34m\u001b[0m\u001b[0;34m\u001b[0m\u001b[0m\n",
      "\u001b[0;32m~/Documents/MyFork_PyMoosh/PyMoosh/materials.py\u001b[0m in \u001b[0;36mget_permittivity\u001b[0;34m(self, wavelength)\u001b[0m\n\u001b[1;32m    170\u001b[0m \u001b[0;34m\u001b[0m\u001b[0m\n\u001b[1;32m    171\u001b[0m     \u001b[0;32mdef\u001b[0m \u001b[0mget_permittivity\u001b[0m\u001b[0;34m(\u001b[0m\u001b[0mself\u001b[0m\u001b[0;34m,\u001b[0m\u001b[0mwavelength\u001b[0m\u001b[0;34m)\u001b[0m\u001b[0;34m:\u001b[0m\u001b[0;34m\u001b[0m\u001b[0;34m\u001b[0m\u001b[0m\n\u001b[0;32m--> 172\u001b[0;31m         \u001b[0;32mif\u001b[0m \u001b[0mself\u001b[0m\u001b[0;34m.\u001b[0m\u001b[0mtype\u001b[0m \u001b[0;34m==\u001b[0m \u001b[0;34m\"simple_perm\"\u001b[0m\u001b[0;34m:\u001b[0m\u001b[0;34m\u001b[0m\u001b[0;34m\u001b[0m\u001b[0m\n\u001b[0m\u001b[1;32m    173\u001b[0m             \u001b[0;32mreturn\u001b[0m \u001b[0mself\u001b[0m\u001b[0;34m.\u001b[0m\u001b[0mpermittivity\u001b[0m\u001b[0;34m\u001b[0m\u001b[0;34m\u001b[0m\u001b[0m\n\u001b[1;32m    174\u001b[0m         \u001b[0;32melif\u001b[0m \u001b[0mself\u001b[0m\u001b[0;34m.\u001b[0m\u001b[0mtype\u001b[0m \u001b[0;34m==\u001b[0m \u001b[0;34m\"magnetic\"\u001b[0m\u001b[0;34m:\u001b[0m\u001b[0;34m\u001b[0m\u001b[0;34m\u001b[0m\u001b[0m\n",
      "\u001b[0;31mAttributeError\u001b[0m: 'Material' object has no attribute 'type'"
     ]
    }
   ],
   "source": [
    "from PyMoosh.core import Structure\n",
    "\n",
    "wavelength = 600 # nm\n",
    "material_list = [1.0, special_material]\n",
    "thickness = [1, 2]*wavelength\n",
    "\n",
    "interface = Structure(material_list, [0, 1], thickness)\n",
    "\n",
    "mat_1 = interface.materials[0]\n",
    "mat_2 = interface.materials[1]\n",
    "\n",
    "refractive_index_mat_1 = np.sqrt(mat_1.get_permittivity(wavelength))\n",
    "refractive_index_mat_2 = np.sqrt(mat_2.get_permittivity(wavelength))\n",
    "\n",
    "print(refractive_index_mat_1)\n",
    "print(refractive_index_mat_2)"
   ]
  },
  {
   "cell_type": "markdown",
   "metadata": {},
   "source": [
    "## (2/3) Anisotropic Material"
   ]
  },
  {
   "cell_type": "markdown",
   "metadata": {},
   "source": [
    "Something..."
   ]
  },
  {
   "cell_type": "markdown",
   "metadata": {},
   "source": [
    "## (3/3) Experimental Data Material"
   ]
  },
  {
   "cell_type": "markdown",
   "metadata": {},
   "source": [
    "...in the way"
   ]
  }
 ],
 "metadata": {
  "kernelspec": {
   "display_name": "Python 3",
   "language": "python",
   "name": "python3"
  },
  "language_info": {
   "codemirror_mode": {
    "name": "ipython",
    "version": 3
   },
   "file_extension": ".py",
   "mimetype": "text/x-python",
   "name": "python",
   "nbconvert_exporter": "python",
   "pygments_lexer": "ipython3",
   "version": "3.10.12"
  }
 },
 "nbformat": 4,
 "nbformat_minor": 2
}
